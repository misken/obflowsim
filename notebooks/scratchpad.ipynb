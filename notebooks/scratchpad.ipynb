{
 "cells": [
  {
   "cell_type": "code",
   "execution_count": 1,
   "id": "188162dc-3f0b-4f12-aaff-6c39a77bd9f3",
   "metadata": {},
   "outputs": [],
   "source": [
    "import pandas as pd\n",
    "from enum import IntEnum"
   ]
  },
  {
   "cell_type": "markdown",
   "id": "f22b284a-5c6d-48cb-b792-7a4021d7e35d",
   "metadata": {},
   "source": [
    "## Total volume"
   ]
  },
  {
   "cell_type": "code",
   "execution_count": 1,
   "id": "e0fb1a4e-c53d-445e-9d21-dc89292ec1a6",
   "metadata": {},
   "outputs": [
    {
     "data": {
      "text/plain": [
       "8760"
      ]
     },
     "execution_count": 1,
     "metadata": {},
     "output_type": "execute_result"
    }
   ],
   "source": [
    "n_annual_births = 2500\n",
    "\n",
    "n_hours_per_year = 24 * 365\n",
    "n_hours_per_year"
   ]
  },
  {
   "cell_type": "markdown",
   "id": "de4222df-e2a4-4140-a1f6-1b318e2d345f",
   "metadata": {},
   "source": [
    "## Working with dow abbreviations"
   ]
  },
  {
   "cell_type": "code",
   "execution_count": 2,
   "id": "1e7ab17d-adc9-49ba-85a8-b1b9a0bd046d",
   "metadata": {},
   "outputs": [
    {
     "data": {
      "text/plain": [
       "Timestamp('2022-01-31 00:00:00')"
      ]
     },
     "execution_count": 2,
     "metadata": {},
     "output_type": "execute_result"
    }
   ],
   "source": [
    "ts_mon = pd.Timestamp('2022-01-31')\n",
    "ts_mon"
   ]
  },
  {
   "cell_type": "code",
   "execution_count": 3,
   "id": "4910acc9-da3e-4cd1-9da4-3e8d27f52951",
   "metadata": {},
   "outputs": [
    {
     "data": {
      "text/plain": [
       "0"
      ]
     },
     "execution_count": 3,
     "metadata": {},
     "output_type": "execute_result"
    }
   ],
   "source": [
    "ts_mon.weekday()"
   ]
  },
  {
   "cell_type": "code",
   "execution_count": 4,
   "id": "2221327d-813e-4c70-ab3c-ad9f627a0a5f",
   "metadata": {},
   "outputs": [],
   "source": [
    "Weekdays = IntEnum('Weekdays', 'mon tue wed thu fri sat sun', start=0)"
   ]
  },
  {
   "cell_type": "code",
   "execution_count": 5,
   "id": "0f9db198-a32b-4609-93c1-5ccbcf67c3e8",
   "metadata": {},
   "outputs": [
    {
     "data": {
      "text/plain": [
       "1"
      ]
     },
     "execution_count": 5,
     "metadata": {},
     "output_type": "execute_result"
    }
   ],
   "source": [
    "Weekdays.mon + 1"
   ]
  },
  {
   "cell_type": "code",
   "execution_count": 6,
   "id": "e6fd3936-fbe4-44ae-93e4-bd791aba1fc5",
   "metadata": {},
   "outputs": [
    {
     "data": {
      "text/plain": [
       "0"
      ]
     },
     "execution_count": 6,
     "metadata": {},
     "output_type": "execute_result"
    }
   ],
   "source": [
    "Weekdays['mon'].value"
   ]
  },
  {
   "cell_type": "code",
   "execution_count": null,
   "id": "7b0fb207-6df4-49a9-9e72-0f8dd9ee59ee",
   "metadata": {},
   "outputs": [],
   "source": []
  },
  {
   "cell_type": "code",
   "execution_count": 13,
   "id": "291e0cd4-800d-4b69-aa6c-93b70af62745",
   "metadata": {},
   "outputs": [
    {
     "name": "stdout",
     "output_type": "stream",
     "text": [
      "5\n"
     ]
    }
   ],
   "source": [
    "dow = 1\n",
    "start_dow = 3\n",
    "\n",
    "if dow >= start_dow:\n",
    "    num_days = dow - start_dow\n",
    "else:\n",
    "    num_days = 7 - (start_dow - dow)\n",
    "\n",
    "print(num_days)"
   ]
  },
  {
   "cell_type": "markdown",
   "id": "54c0d42a-f306-4799-8d15-950d9859a7d0",
   "metadata": {},
   "source": [
    "## Discrete daily LOS pmfs"
   ]
  },
  {
   "cell_type": "code",
   "execution_count": 14,
   "id": "420c97f9-6bca-4b77-8dc0-c25b66a44886",
   "metadata": {},
   "outputs": [],
   "source": [
    "import numpy as np\n",
    "import pandas as pd\n",
    "import matplotlib.pyplot as plt\n",
    "import matplotlib.colors as mclr"
   ]
  },
  {
   "cell_type": "code",
   "execution_count": 9,
   "id": "97211454-02cb-4ecf-b9f2-6dedfdd04947",
   "metadata": {},
   "outputs": [],
   "source": [
    "rng = np.random.default_rng()"
   ]
  },
  {
   "cell_type": "code",
   "execution_count": 12,
   "id": "aded0ea3-d407-4791-a3f4-c4f140238541",
   "metadata": {},
   "outputs": [
    {
     "data": {
      "text/plain": [
       "2"
      ]
     },
     "execution_count": 12,
     "metadata": {},
     "output_type": "execute_result"
    }
   ],
   "source": [
    "rng.choice([1, 2, 3, 4], p=[0.1, 0.6, 0.2, 0.1])"
   ]
  },
  {
   "cell_type": "markdown",
   "id": "3cbd8841-c17c-4fc8-9b23-99de77bd4076",
   "metadata": {},
   "source": [
    "## Hourly discharge patterns"
   ]
  },
  {
   "cell_type": "code",
   "execution_count": 2,
   "id": "71d1193f-3c97-49e6-b6ac-c1e785b2e6b4",
   "metadata": {},
   "outputs": [],
   "source": [
    "prev = 0.7\n",
    "NP = 10000\n",
    "nI =  round(NP*prev)\n",
    "nH = NP-nI\n",
    "\n",
    "#--- generate the data ---\n",
    "# Combining data from two different distributions to get a multimodal dataset for which\n",
    "# using an empirical dist might be quite appropriate\n",
    "value_h = np.random.beta(2, 9, nH)\n",
    "value_i = np.random.beta(5, 1, nI)\n",
    "value_c = np.concatenate((value_h, value_i))\n",
    "\n",
    "#--- analyse the data, compute the middle of the data classes (bins)---\n",
    "nBins=30\n",
    "count_c, bins_c, = np.histogram(value_c, bins=nBins)\n",
    "myPDF = count_c/np.sum(count_c)\n",
    "dxc = np.diff(bins_c)[0];   xc = bins_c[0:-1] + 0.5*dxc"
   ]
  },
  {
   "cell_type": "code",
   "execution_count": 3,
   "id": "774f2618-d6b7-4029-b1a6-5b5b183cd830",
   "metadata": {},
   "outputs": [
    {
     "data": {
      "text/plain": [
       "7000"
      ]
     },
     "execution_count": 3,
     "metadata": {},
     "output_type": "execute_result"
    }
   ],
   "source": [
    "nI"
   ]
  },
  {
   "cell_type": "code",
   "execution_count": 4,
   "id": "d719a726-e969-4e38-b858-146b3f5cdb75",
   "metadata": {},
   "outputs": [
    {
     "data": {
      "text/plain": [
       "array([0.00992713, 0.18414572, 0.25717416, ..., 0.29778503, 0.06578547,\n",
       "       0.05421738])"
      ]
     },
     "execution_count": 4,
     "metadata": {},
     "output_type": "execute_result"
    }
   ],
   "source": [
    "value_h"
   ]
  },
  {
   "cell_type": "code",
   "execution_count": 5,
   "id": "fc495ed0-e38e-4d14-ba64-6ef3dfa71844",
   "metadata": {},
   "outputs": [
    {
     "data": {
      "text/plain": [
       "array([ 140,  280,  373,  392,  357,  335,  278,  248,  176,  135,  114,\n",
       "         97,  102,   73,   85,  105,  102,  141,  182,  208,  265,  331,\n",
       "        357,  432,  529,  641,  714,  818,  915, 1075])"
      ]
     },
     "execution_count": 5,
     "metadata": {},
     "output_type": "execute_result"
    }
   ],
   "source": [
    "count_c"
   ]
  },
  {
   "cell_type": "code",
   "execution_count": 6,
   "id": "ed845373-f30c-43a7-961c-2240f9b879a3",
   "metadata": {},
   "outputs": [
    {
     "data": {
      "text/plain": [
       "array([0.00320462, 0.03643057, 0.06965652, 0.10288247, 0.13610843,\n",
       "       0.16933438, 0.20256033, 0.23578628, 0.26901223, 0.30223818,\n",
       "       0.33546413, 0.36869009, 0.40191604, 0.43514199, 0.46836794,\n",
       "       0.50159389, 0.53481984, 0.56804579, 0.60127175, 0.6344977 ,\n",
       "       0.66772365, 0.7009496 , 0.73417555, 0.7674015 , 0.80062745,\n",
       "       0.83385341, 0.86707936, 0.90030531, 0.93353126, 0.96675721,\n",
       "       0.99998316])"
      ]
     },
     "execution_count": 6,
     "metadata": {},
     "output_type": "execute_result"
    }
   ],
   "source": [
    "bins_c"
   ]
  },
  {
   "cell_type": "code",
   "execution_count": 7,
   "id": "d05d9831-43b8-46fb-8e52-06fcb6276ec5",
   "metadata": {},
   "outputs": [
    {
     "data": {
      "text/plain": [
       "array([0.014 , 0.028 , 0.0373, 0.0392, 0.0357, 0.0335, 0.0278, 0.0248,\n",
       "       0.0176, 0.0135, 0.0114, 0.0097, 0.0102, 0.0073, 0.0085, 0.0105,\n",
       "       0.0102, 0.0141, 0.0182, 0.0208, 0.0265, 0.0331, 0.0357, 0.0432,\n",
       "       0.0529, 0.0641, 0.0714, 0.0818, 0.0915, 0.1075])"
      ]
     },
     "execution_count": 7,
     "metadata": {},
     "output_type": "execute_result"
    }
   ],
   "source": [
    "myPDF"
   ]
  },
  {
   "cell_type": "markdown",
   "id": "32018ac6-8ca8-445c-ab89-fddf5595321f",
   "metadata": {},
   "source": [
    "We need the bin width. The np.diff() function return"
   ]
  },
  {
   "cell_type": "code",
   "execution_count": 8,
   "id": "85480b2d-48a3-480f-aa84-b20a0e65104f",
   "metadata": {},
   "outputs": [
    {
     "data": {
      "text/plain": [
       "array([0.03322595, 0.03322595, 0.03322595, 0.03322595, 0.03322595,\n",
       "       0.03322595, 0.03322595, 0.03322595, 0.03322595, 0.03322595,\n",
       "       0.03322595, 0.03322595, 0.03322595, 0.03322595, 0.03322595,\n",
       "       0.03322595, 0.03322595, 0.03322595, 0.03322595, 0.03322595,\n",
       "       0.03322595, 0.03322595, 0.03322595, 0.03322595, 0.03322595,\n",
       "       0.03322595, 0.03322595, 0.03322595, 0.03322595, 0.03322595])"
      ]
     },
     "execution_count": 8,
     "metadata": {},
     "output_type": "execute_result"
    }
   ],
   "source": [
    "np.diff(bins_c)"
   ]
  },
  {
   "cell_type": "code",
   "execution_count": 10,
   "id": "d883394f-fe3a-4e4c-9427-a583d815e299",
   "metadata": {},
   "outputs": [
    {
     "data": {
      "text/plain": [
       "0.03322595138773755"
      ]
     },
     "execution_count": 10,
     "metadata": {},
     "output_type": "execute_result"
    }
   ],
   "source": [
    "np.diff(bins_c)[0]"
   ]
  },
  {
   "cell_type": "code",
   "execution_count": 11,
   "id": "d04145d7-6497-4555-a95b-7c8e86badf71",
   "metadata": {},
   "outputs": [
    {
     "data": {
      "text/plain": [
       "array([0.0198176 , 0.05304355, 0.0862695 , 0.11949545, 0.1527214 ,\n",
       "       0.18594735, 0.2191733 , 0.25239926, 0.28562521, 0.31885116,\n",
       "       0.35207711, 0.38530306, 0.41852901, 0.45175496, 0.48498092,\n",
       "       0.51820687, 0.55143282, 0.58465877, 0.61788472, 0.65111067,\n",
       "       0.68433662, 0.71756258, 0.75078853, 0.78401448, 0.81724043,\n",
       "       0.85046638, 0.88369233, 0.91691828, 0.95014424, 0.98337019])"
      ]
     },
     "execution_count": 11,
     "metadata": {},
     "output_type": "execute_result"
    }
   ],
   "source": [
    "xc"
   ]
  },
  {
   "cell_type": "code",
   "execution_count": 12,
   "id": "bbbea80f-65bc-471f-8834-1ec142d10cc0",
   "metadata": {},
   "outputs": [
    {
     "data": {
      "text/plain": [
       "array([0., 0., 0., 0., 0., 0., 0., 0., 0., 0., 0., 0., 0., 0., 0., 0., 0.,\n",
       "       0., 0., 0., 0., 0., 0., 0., 0., 0., 0., 0., 0., 0., 0.])"
      ]
     },
     "execution_count": 12,
     "metadata": {},
     "output_type": "execute_result"
    }
   ],
   "source": [
    "#--- compute the CDF ----\n",
    "myCDF = np.zeros_like(bins_c)\n",
    "myCDF"
   ]
  },
  {
   "cell_type": "code",
   "execution_count": 16,
   "id": "1cb61fb0-4702-4332-bfde-c034bf493e25",
   "metadata": {},
   "outputs": [
    {
     "data": {
      "text/plain": [
       "[<matplotlib.lines.Line2D at 0x768c54250a90>,\n",
       " <matplotlib.lines.Line2D at 0x768c541c4dd0>]"
      ]
     },
     "execution_count": 16,
     "metadata": {},
     "output_type": "execute_result"
    },
    {
     "data": {
      "image/png": "[encoded data removed]",
      "text/plain": [
       "<Figure size 640x480 with 1 Axes>"
      ]
     },
     "metadata": {},
     "output_type": "display_data"
    }
   ],
   "source": [
    "myCDF[1:] = np.cumsum(myPDF)\n",
    "plt.plot(bins_c, myCDF, xc, myPDF)"
   ]
  },
  {
   "cell_type": "code",
   "execution_count": 17,
   "id": "5065c28f-58f5-4253-8f43-377ac94939ba",
   "metadata": {},
   "outputs": [],
   "source": [
    "discharge_file = '../tests/input/discharge_cdf.txt'"
   ]
  },
  {
   "cell_type": "code",
   "execution_count": 29,
   "id": "baee786d-e70f-4510-9287-a52eaf804e70",
   "metadata": {},
   "outputs": [],
   "source": [
    "with open(discharge_file, 'r') as f:\n",
    "    discharge_lines = [line.strip().split() for line in f.readlines() if len(line.strip()) > 0]"
   ]
  },
  {
   "cell_type": "code",
   "execution_count": 30,
   "id": "d2e3b860-125f-453b-a6c6-8b4acc755de5",
   "metadata": {},
   "outputs": [
    {
     "data": {
      "text/plain": [
       "[['1', '0.0'],\n",
       " ['2', '0.0'],\n",
       " ['3', '0.0'],\n",
       " ['4', '0.0'],\n",
       " ['5', '0.0'],\n",
       " ['6', '0.0'],\n",
       " ['7', '0.1'],\n",
       " ['8', '0.1'],\n",
       " ['9', '0.2'],\n",
       " ['10', '0.3'],\n",
       " ['11', '0.5'],\n",
       " ['12', '0.6'],\n",
       " ['13', '0.7'],\n",
       " ['14', '0.8'],\n",
       " ['15', '0.9'],\n",
       " ['16', '1.0'],\n",
       " ['17', '1.0'],\n",
       " ['18', '1.0'],\n",
       " ['19', '1.0'],\n",
       " ['20', '1.0'],\n",
       " ['21', '1.0'],\n",
       " ['22', '1.0'],\n",
       " ['23', '1.0'],\n",
       " ['24', '1.0']]"
      ]
     },
     "execution_count": 30,
     "metadata": {},
     "output_type": "execute_result"
    }
   ],
   "source": [
    "discharge_lines"
   ]
  },
  {
   "cell_type": "code",
   "execution_count": 31,
   "id": "ba08d8ed-7e35-41e9-b520-8c370bb212ad",
   "metadata": {},
   "outputs": [
    {
     "data": {
      "text/plain": [
       "[('1',\n",
       "  '2',\n",
       "  '3',\n",
       "  '4',\n",
       "  '5',\n",
       "  '6',\n",
       "  '7',\n",
       "  '8',\n",
       "  '9',\n",
       "  '10',\n",
       "  '11',\n",
       "  '12',\n",
       "  '13',\n",
       "  '14',\n",
       "  '15',\n",
       "  '16',\n",
       "  '17',\n",
       "  '18',\n",
       "  '19',\n",
       "  '20',\n",
       "  '21',\n",
       "  '22',\n",
       "  '23',\n",
       "  '24'),\n",
       " ('0.0',\n",
       "  '0.0',\n",
       "  '0.0',\n",
       "  '0.0',\n",
       "  '0.0',\n",
       "  '0.0',\n",
       "  '0.1',\n",
       "  '0.1',\n",
       "  '0.2',\n",
       "  '0.3',\n",
       "  '0.5',\n",
       "  '0.6',\n",
       "  '0.7',\n",
       "  '0.8',\n",
       "  '0.9',\n",
       "  '1.0',\n",
       "  '1.0',\n",
       "  '1.0',\n",
       "  '1.0',\n",
       "  '1.0',\n",
       "  '1.0',\n",
       "  '1.0',\n",
       "  '1.0',\n",
       "  '1.0')]"
      ]
     },
     "execution_count": 31,
     "metadata": {},
     "output_type": "execute_result"
    }
   ],
   "source": [
    "list(zip(*discharge_lines))"
   ]
  },
  {
   "cell_type": "code",
   "execution_count": 43,
   "id": "2cc42ddd-574b-48f6-8656-3835f7034afc",
   "metadata": {},
   "outputs": [
    {
     "data": {
      "text/plain": [
       "array([ 1,  2,  3,  4,  5,  6,  7,  8,  9, 10, 11, 12, 13, 14, 15, 16, 17,\n",
       "       18, 19, 20, 21, 22, 23, 24])"
      ]
     },
     "execution_count": 43,
     "metadata": {},
     "output_type": "execute_result"
    }
   ],
   "source": [
    "bins = np.array([int(x) for x in list(zip(*discharge_lines))[0]])\n",
    "bins"
   ]
  },
  {
   "cell_type": "code",
   "execution_count": 42,
   "id": "6647e02e-1858-4ae3-81fa-2bcd79430e0f",
   "metadata": {},
   "outputs": [
    {
     "data": {
      "text/plain": [
       "array([0. , 0. , 0. , 0. , 0. , 0. , 0.1, 0.1, 0.2, 0.3, 0.5, 0.6, 0.7,\n",
       "       0.8, 0.9, 1. , 1. , 1. , 1. , 1. , 1. , 1. , 1. , 1. ])"
      ]
     },
     "execution_count": 42,
     "metadata": {},
     "output_type": "execute_result"
    }
   ],
   "source": [
    "cdf = np.array([float(x) for x in list(zip(*discharge_lines))[1]])\n",
    "cdf"
   ]
  },
  {
   "cell_type": "code",
   "execution_count": 35,
   "id": "ab2d039c-fe4e-49bb-b67c-c8e32c1c4c02",
   "metadata": {},
   "outputs": [
    {
     "data": {
      "text/plain": [
       "0.009547557797477402"
      ]
     },
     "execution_count": 35,
     "metadata": {},
     "output_type": "execute_result"
    }
   ],
   "source": [
    "rng = np.random.default_rng()\n",
    "a = rng.random()\n",
    "a"
   ]
  },
  {
   "cell_type": "code",
   "execution_count": 44,
   "id": "524dd3d8-1611-4fba-b418-8ceedd277b1c",
   "metadata": {},
   "outputs": [
    {
     "data": {
      "text/plain": [
       "array([False, False, False, False, False, False,  True,  True,  True,\n",
       "        True,  True,  True,  True,  True,  True,  True,  True,  True,\n",
       "        True,  True,  True,  True,  True,  True])"
      ]
     },
     "execution_count": 44,
     "metadata": {},
     "output_type": "execute_result"
    }
   ],
   "source": [
    "(cdf >= a)"
   ]
  },
  {
   "cell_type": "code",
   "execution_count": 45,
   "id": "4fb78462-5cd0-43e9-a1d1-4497de4e63d5",
   "metadata": {},
   "outputs": [
    {
     "data": {
      "text/plain": [
       "6"
      ]
     },
     "execution_count": 45,
     "metadata": {},
     "output_type": "execute_result"
    }
   ],
   "source": [
    "np.argmax(cdf >= a)"
   ]
  },
  {
   "cell_type": "code",
   "execution_count": 47,
   "id": "03ee4828-64af-4309-91de-f3f74d88a7a4",
   "metadata": {},
   "outputs": [
    {
     "data": {
      "text/plain": [
       "6"
      ]
     },
     "execution_count": 47,
     "metadata": {},
     "output_type": "execute_result"
    }
   ],
   "source": [
    "bins[np.argmax(cdf >= a) - 1]"
   ]
  }
 ],
 "metadata": {
  "kernelspec": {
   "display_name": "Python [conda env:sim311]",
   "language": "python",
   "name": "conda-env-sim311-py"
  },
  "language_info": {
   "codemirror_mode": {
    "name": "ipython",
    "version": 3
   },
   "file_extension": ".py",
   "mimetype": "text/x-python",
   "name": "python",
   "nbconvert_exporter": "python",
   "pygments_lexer": "ipython3",
   "version": "3.11.9"
  }
 },
 "nbformat": 4,
 "nbformat_minor": 5
}
