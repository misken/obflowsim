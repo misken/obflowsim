{
 "cells": [
  {
   "cell_type": "markdown",
   "id": "7aab65ed-4c4c-4daf-a75f-dcc7eaeaea23",
   "metadata": {
    "tags": []
   },
   "source": [
    "# How obsimflow works and its architecture/design"
   ]
  },
  {
   "cell_type": "code",
   "execution_count": 1,
   "id": "f8fda273-3c1d-4215-8dd1-0f0d594a4bca",
   "metadata": {},
   "outputs": [],
   "source": [
    "import simpy"
   ]
  },
  {
   "cell_type": "markdown",
   "id": "a03978b5-7dc1-485c-9bf9-95dc1b365ee9",
   "metadata": {},
   "source": [
    "# Patient arrivals\n",
    "There are two main patient arrival schemes:\n",
    "\n",
    "- stationary Poisson arrivals\n",
    "- scheduled arrivals\n",
    "\n",
    "Stationary Poisson arrival generators are for modeling patients arriving due to spontaneous labor as well as for other non-scheduled patients requiring use of one or more patient care units (e.g. observation or post-partum).\n",
    "\n",
    "Scheduled arrival generators can be used to model scheduled C-section and scheduled induction patient arrivals."
   ]
  },
  {
   "cell_type": "markdown",
   "id": "b1b34572-957f-4c0e-ab81-6883372e9120",
   "metadata": {},
   "source": [
    "### Poisson arrivals\n",
    "\n",
    "The `PatientPoissonArrivals` class generates `Patient` objects\n",
    "according to a stationary poisson process with a specified\n",
    "rate. In addition to the mean arrival rate, the arrival generator\n",
    "is initialized with a unique arrival stream identifier (`str`), and\n",
    "a numpy random number generator (`numpy.random.default_rng`) whose\n",
    "seed is specified in the simulation scenario config file. There\n",
    "are two ways to control the stopping of patient generation.\n",
    "\n",
    "- by time via setting `stop_time` (default is `simpy.core.Infinity`)\n",
    "- by number of arrivals via setting ``max_arrivals` (default is `simpy.core.Infinity`)\n",
    "\n",
    "The last input parameter is a `PatientFlowSystem` object. This object is the primary \"container\" for components making up the system to be simulated. It is this object that will consume the generated arrival objects."
   ]
  },
  {
   "cell_type": "markdown",
   "id": "7b4774f1-5641-4b64-a865-9f5da8638d39",
   "metadata": {},
   "source": [
    "Within SimPy, modeling Poisson arrivals can be done with a loop that keeps generating `Timeout` events with exponential inter-event times until one of the stopping conditions is met.\n",
    "\n",
    "There is a single state related attribute, `num_patients_created`, that is incremented on each arrival event.\n",
    "\n",
    "After the interarrival `Timeout` event is processed:\n",
    "\n",
    "- a unique arrival id (`str`) is created based on the arrival stream id and the value of `num_patients_created`,\n",
    "- a new instance of `Patient` is created. In DES terms, each instance is a new *entity* that will flow through the system.\n",
    "\n",
    "To create a new `Patient` instance we pass the unique arrival id, the arrival stream id, the current simulation time, and the `PatientFlowSystem` object to the `Patient.__init__()` method. The `Patient` object will handle inserting the new patient into the system at the `ENTRY` location.\n",
    "\n",
    "#### Possible improvements\n",
    "\n",
    "As implemented, the `PatientPoissonArrivals` class is **not** a general Poisson arrival generator object that can be reused without modifying the source code. It is tightly coupled to both the type of entity object being created (`Patient`) and the system object to which the entity arrives (`PatientFlowSystem`). The current design is transparent and was easy to create, but we should be able to come up with a way for a general Poisson arrival object to broadcast a signal that a new arrival has occured and that some other object (i.e. the system object) can detect and respond. The signal would need to contain all relevant information needed by the system object to create the new entity instance and route it into the flow system."
   ]
  },
  {
   "cell_type": "code",
   "execution_count": null,
   "id": "8308afcb-5b1c-490a-837a-e7a3ec474661",
   "metadata": {},
   "outputs": [],
   "source": [
    "class PatientPoissonArrivals:\n",
    "    \"\"\" Generates patients according to a stationary Poisson process with specified rate.\n",
    "\n",
    "        Parameters\n",
    "        ----------\n",
    "        env : simpy.Environment\n",
    "            the simulation environment\n",
    "        arrival_stream_uid : ArrivalType\n",
    "            unique name of random arrival stream\n",
    "        arrival_rate : float\n",
    "            Poisson arrival rate (expected number of arrivals per unit time)\n",
    "        arrival_stream_rg : numpy.random.Generator\n",
    "            used for interarrival time generation\n",
    "        stop_time : float\n",
    "            Stops generation at the stoptime. (default Infinity)\n",
    "        max_arrivals : int\n",
    "            Stops generation after max_arrivals. (default Infinity)\n",
    "        patient_flow_system : (default None) PatientFlowSystem into which the arrival is inserted\n",
    "            This allows us to kick off a patient flowing through the system. If omitted,\n",
    "            no patient instances are actually created.\n",
    "\n",
    "        TODO: Decouple the PP generator from the actual creation of model specific entities\n",
    "    \"\"\"\n",
    "\n",
    "    def __init__(self, env, arrival_stream_uid: ArrivalType, arrival_rate: float, arrival_stream_rg,\n",
    "                 stop_time=simpy.core.Infinity, max_arrivals=simpy.core.Infinity,\n",
    "                 patient_flow_system=None):\n",
    "\n",
    "        # Parameter attributes\n",
    "        self.env = env\n",
    "        self.arrival_stream_uid = arrival_stream_uid\n",
    "        self.arr_rate = arrival_rate\n",
    "        self.arr_stream_rg = arrival_stream_rg\n",
    "        self.stop_time = stop_time\n",
    "        self.max_arrivals = max_arrivals\n",
    "        self.patient_flow_system = patient_flow_system\n",
    "\n",
    "        # State attributes\n",
    "        self.num_patients_created = 0\n",
    "\n",
    "        # Trigger the run() method and register it as a SimPy process\n",
    "        env.process(self.run())\n",
    "\n",
    "    def run(self):\n",
    "        \"\"\"\n",
    "        Generate entities until stopping condition met\n",
    "        \"\"\"\n",
    "\n",
    "        # Main entity creation loop that terminates when stoptime reached\n",
    "        while self.env.now < self.stop_time and \\\n",
    "                self.num_patients_created < self.max_arrivals:\n",
    "            # Compute next interarrival time\n",
    "            iat = self.arr_stream_rg.exponential(1.0 / self.arr_rate)\n",
    "            # Delay until time for next arrival\n",
    "            yield self.env.timeout(iat)\n",
    "            self.num_patients_created += 1\n",
    "\n",
    "            new_entity_id = f'{self.arrival_stream_uid}_{self.num_patients_created}'\n",
    "\n",
    "            if self.patient_flow_system is not None:\n",
    "                new_patient = Patient(new_entity_id, self.arrival_stream_uid,\n",
    "                                      self.env.now, self.patient_flow_system)\n",
    "\n",
    "                logging.debug(\n",
    "                    f\"{self.env.now:.4f}: {new_patient.patient_id} created at {self.env.now:.4f} ({self.patient_flow_system.sim_calendar.now()}).\")"
   ]
  }
 ],
 "metadata": {
  "kernelspec": {
   "display_name": "Python [conda env:sim311]",
   "language": "python",
   "name": "conda-env-sim311-py"
  },
  "language_info": {
   "codemirror_mode": {
    "name": "ipython",
    "version": 3
   },
   "file_extension": ".py",
   "mimetype": "text/x-python",
   "name": "python",
   "nbconvert_exporter": "python",
   "pygments_lexer": "ipython3",
   "version": "3.11.9"
  }
 },
 "nbformat": 4,
 "nbformat_minor": 5
}
