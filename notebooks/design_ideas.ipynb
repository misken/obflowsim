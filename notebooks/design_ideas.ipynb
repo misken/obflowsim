{
 "cells": [
  {
   "cell_type": "markdown",
   "id": "730b6530-de98-4fa1-a3eb-ad88fe2b761a",
   "metadata": {},
   "source": [
    "# Design ideas"
   ]
  },
  {
   "cell_type": "markdown",
   "id": "5ad88884-9f6d-4bce-876f-e58cab450230",
   "metadata": {},
   "source": [
    "## Specifying LOS distributions\n",
    "Could use eval in following way:\n",
    "\n",
    "- just allow distributions available in numpy\n",
    "- only allow numeric args\n",
    "- we prepend on the rv generator variable\n",
    "\n",
    "Can always have external tools that make it easy to create config files. The\n",
    "files themselves should not be using global variables. But... right now I've got\n",
    "parameters of erlang LOS distributions as global vars. So, it would be nice if \n",
    "distributions could use global variables. Could have an 'los_param_vars' section that\n",
    "could then be used in the distributions section. I kind of like that."
   ]
  },
  {
   "cell_type": "code",
   "execution_count": 2,
   "id": "142a83e9-f992-42e0-a595-023ff06dc0b2",
   "metadata": {},
   "outputs": [],
   "source": [
    "import numpy as np\n",
    "from numpy.random import default_rng"
   ]
  },
  {
   "cell_type": "code",
   "execution_count": 3,
   "id": "8d1ac617-d7ab-434f-a4a5-3e40dbd9e203",
   "metadata": {},
   "outputs": [],
   "source": [
    "rg = default_rng(1)"
   ]
  },
  {
   "cell_type": "code",
   "execution_count": 5,
   "id": "62e60733-733d-4aab-a797-81877262c97e",
   "metadata": {},
   "outputs": [],
   "source": [
    "obs_dist_str = 'exponential(5.0)'"
   ]
  },
  {
   "cell_type": "code",
   "execution_count": 6,
   "id": "635a2b34-2532-4c35-ab92-207adefac191",
   "metadata": {},
   "outputs": [
    {
     "data": {
      "text/plain": [
       "3"
      ]
     },
     "execution_count": 6,
     "metadata": {},
     "output_type": "execute_result"
    }
   ],
   "source": [
    "eval('1 + 2')"
   ]
  },
  {
   "cell_type": "code",
   "execution_count": 7,
   "id": "ebd990df-65dd-4c78-81f8-3838022c2c66",
   "metadata": {},
   "outputs": [
    {
     "data": {
      "text/plain": [
       "'rg.exponential(5.0)'"
      ]
     },
     "execution_count": 7,
     "metadata": {},
     "output_type": "execute_result"
    }
   ],
   "source": [
    "obs_dist_rg_str = f'rg.{obs_dist_str}'\n",
    "obs_dist_rg_str"
   ]
  },
  {
   "cell_type": "code",
   "execution_count": 9,
   "id": "0edab840-e589-4ab4-a846-5bf1fe401f13",
   "metadata": {},
   "outputs": [
    {
     "data": {
      "text/plain": [
       "1.5422657206264216"
      ]
     },
     "execution_count": 9,
     "metadata": {},
     "output_type": "execute_result"
    }
   ],
   "source": [
    "eval(obs_dist_rg_str)"
   ]
  },
  {
   "cell_type": "code",
   "execution_count": 10,
   "id": "37fa04c2-0054-4082-923a-acd8ed9e5204",
   "metadata": {},
   "outputs": [
    {
     "name": "stdout",
     "output_type": "stream",
     "text": [
      "<code object <module> at 0x7f91dc5f9a80, file \"<string>\", line 1>\n"
     ]
    }
   ],
   "source": [
    "# Compile the expression\n",
    "\n",
    "code = compile(obs_dist_rg_str, \"<string>\", \"eval\")\n",
    "print(code)"
   ]
  },
  {
   "cell_type": "code",
   "execution_count": 11,
   "id": "3a5c1c19-8a3e-4120-a102-1a8c40502021",
   "metadata": {},
   "outputs": [
    {
     "data": {
      "text/plain": [
       "['__class__',\n",
       " '__delattr__',\n",
       " '__dir__',\n",
       " '__doc__',\n",
       " '__eq__',\n",
       " '__format__',\n",
       " '__ge__',\n",
       " '__getattribute__',\n",
       " '__gt__',\n",
       " '__hash__',\n",
       " '__init__',\n",
       " '__init_subclass__',\n",
       " '__le__',\n",
       " '__lt__',\n",
       " '__ne__',\n",
       " '__new__',\n",
       " '__reduce__',\n",
       " '__reduce_ex__',\n",
       " '__repr__',\n",
       " '__setattr__',\n",
       " '__sizeof__',\n",
       " '__str__',\n",
       " '__subclasshook__',\n",
       " 'co_argcount',\n",
       " 'co_cellvars',\n",
       " 'co_code',\n",
       " 'co_consts',\n",
       " 'co_filename',\n",
       " 'co_firstlineno',\n",
       " 'co_flags',\n",
       " 'co_freevars',\n",
       " 'co_kwonlyargcount',\n",
       " 'co_lnotab',\n",
       " 'co_name',\n",
       " 'co_names',\n",
       " 'co_nlocals',\n",
       " 'co_posonlyargcount',\n",
       " 'co_stacksize',\n",
       " 'co_varnames',\n",
       " 'replace']"
      ]
     },
     "execution_count": 11,
     "metadata": {},
     "output_type": "execute_result"
    }
   ],
   "source": [
    "dir(code)"
   ]
  },
  {
   "cell_type": "code",
   "execution_count": 12,
   "id": "e365c343-2359-47b9-b9c1-4141e7e19a2e",
   "metadata": {},
   "outputs": [
    {
     "name": "stdout",
     "output_type": "stream",
     "text": [
      "rg\n",
      "exponential\n"
     ]
    }
   ],
   "source": [
    "for n in code.co_names:\n",
    "    print(n)"
   ]
  },
  {
   "cell_type": "code",
   "execution_count": 13,
   "id": "a68a60ee-dce3-4d2f-a43f-58b256ed081e",
   "metadata": {},
   "outputs": [
    {
     "name": "stdout",
     "output_type": "stream",
     "text": [
      "5.0\n"
     ]
    }
   ],
   "source": [
    "for n in code.co_consts:\n",
    "    print(n)"
   ]
  },
  {
   "cell_type": "code",
   "execution_count": 14,
   "id": "01d4bf4b-27c7-45d5-9401-ca37d3a543b5",
   "metadata": {},
   "outputs": [
    {
     "name": "stdout",
     "output_type": "stream",
     "text": [
      "rg\n",
      "exponential\n",
      "mean_los\n"
     ]
    }
   ],
   "source": [
    "obs_dist_str = 'exponential(mean_los)'\n",
    "obs_dist_rg_str = f'rg.{obs_dist_str}'\n",
    "obs_dist_rg_str\n",
    "co_obs_dist = compile(obs_dist_rg_str, \"<string>\", \"eval\")\n",
    "\n",
    "for n in co_obs_dist.co_names:\n",
    "    print(n)\n",
    "    \n",
    "for n in co_obs_dist.co_consts:\n",
    "    print(n)\n",
    "    \n",
    "for n in co_obs_dist.co_freevars:\n",
    "    print(n)"
   ]
  },
  {
   "cell_type": "code",
   "execution_count": null,
   "id": "51c5a21b-9a3f-4127-a2d5-0b441dd6fac1",
   "metadata": {},
   "outputs": [],
   "source": []
  }
 ],
 "metadata": {
  "kernelspec": {
   "display_name": "Python [conda env:obflowsim]",
   "language": "python",
   "name": "conda-env-obflowsim-py"
  },
  "language_info": {
   "codemirror_mode": {
    "name": "ipython",
    "version": 3
   },
   "file_extension": ".py",
   "mimetype": "text/x-python",
   "name": "python",
   "nbconvert_exporter": "python",
   "pygments_lexer": "ipython3",
   "version": "3.9.12"
  }
 },
 "nbformat": 4,
 "nbformat_minor": 5
}
