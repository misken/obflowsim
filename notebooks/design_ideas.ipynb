{
 "cells": [
  {
   "cell_type": "markdown",
   "id": "730b6530-de98-4fa1-a3eb-ad88fe2b761a",
   "metadata": {},
   "source": [
    "# Design ideas"
   ]
  },
  {
   "cell_type": "markdown",
   "id": "5ad88884-9f6d-4bce-876f-e58cab450230",
   "metadata": {},
   "source": [
    "## Specifying LOS distributions\n",
    "Could use eval in following way:\n",
    "\n",
    "- just allow distributions available in numpy\n",
    "- only allow numeric args\n",
    "- we prepend on the rv generator variable\n",
    "\n",
    "Can always have external tools that make it easy to create config files. The\n",
    "files themselves should not be using global variables. But... right now I've got\n",
    "parameters of erlang LOS distributions as global vars. So, it would be nice if \n",
    "distributions could use global variables. Could have an 'los_param_vars' section that\n",
    "could then be used in the distributions section. I kind of like that."
   ]
  },
  {
   "cell_type": "code",
   "execution_count": 1,
   "id": "142a83e9-f992-42e0-a595-023ff06dc0b2",
   "metadata": {},
   "outputs": [],
   "source": [
    "import numpy as np\n",
    "import pandas as pd\n",
    "from numpy.random import default_rng\n",
    "import numpy.random\n",
    "import yaml\n",
    "import json\n",
    "from functools import partial\n",
    "import copy"
   ]
  },
  {
   "cell_type": "code",
   "execution_count": 3,
   "id": "8d1ac617-d7ab-434f-a4a5-3e40dbd9e203",
   "metadata": {},
   "outputs": [],
   "source": [
    "rg = default_rng(1)"
   ]
  },
  {
   "cell_type": "code",
   "execution_count": 21,
   "id": "62e60733-733d-4aab-a797-81877262c97e",
   "metadata": {},
   "outputs": [],
   "source": [
    "obs_dist_str = 'exponential(5.0)'"
   ]
  },
  {
   "cell_type": "code",
   "execution_count": 22,
   "id": "635a2b34-2532-4c35-ab92-207adefac191",
   "metadata": {},
   "outputs": [
    {
     "data": {
      "text/plain": [
       "3"
      ]
     },
     "execution_count": 22,
     "metadata": {},
     "output_type": "execute_result"
    }
   ],
   "source": [
    "eval('1 + 2')"
   ]
  },
  {
   "cell_type": "code",
   "execution_count": 23,
   "id": "ebd990df-65dd-4c78-81f8-3838022c2c66",
   "metadata": {},
   "outputs": [
    {
     "data": {
      "text/plain": [
       "'rg.exponential(5.0)'"
      ]
     },
     "execution_count": 23,
     "metadata": {},
     "output_type": "execute_result"
    }
   ],
   "source": [
    "obs_dist_rg_str = f'rg.{obs_dist_str}'\n",
    "obs_dist_rg_str"
   ]
  },
  {
   "cell_type": "code",
   "execution_count": 24,
   "id": "0edab840-e589-4ab4-a846-5bf1fe401f13",
   "metadata": {},
   "outputs": [
    {
     "data": {
      "text/plain": [
       "5.365145131862694"
      ]
     },
     "execution_count": 24,
     "metadata": {},
     "output_type": "execute_result"
    }
   ],
   "source": [
    "eval(obs_dist_rg_str)"
   ]
  },
  {
   "cell_type": "code",
   "execution_count": 10,
   "id": "37fa04c2-0054-4082-923a-acd8ed9e5204",
   "metadata": {},
   "outputs": [
    {
     "name": "stdout",
     "output_type": "stream",
     "text": [
      "<code object <module> at 0x7f91dc5f9a80, file \"<string>\", line 1>\n"
     ]
    }
   ],
   "source": [
    "# Compile the expression\n",
    "\n",
    "code = compile(obs_dist_rg_str, \"<string>\", \"eval\")\n",
    "print(code)"
   ]
  },
  {
   "cell_type": "code",
   "execution_count": 11,
   "id": "3a5c1c19-8a3e-4120-a102-1a8c40502021",
   "metadata": {},
   "outputs": [
    {
     "data": {
      "text/plain": [
       "['__class__',\n",
       " '__delattr__',\n",
       " '__dir__',\n",
       " '__doc__',\n",
       " '__eq__',\n",
       " '__format__',\n",
       " '__ge__',\n",
       " '__getattribute__',\n",
       " '__gt__',\n",
       " '__hash__',\n",
       " '__init__',\n",
       " '__init_subclass__',\n",
       " '__le__',\n",
       " '__lt__',\n",
       " '__ne__',\n",
       " '__new__',\n",
       " '__reduce__',\n",
       " '__reduce_ex__',\n",
       " '__repr__',\n",
       " '__setattr__',\n",
       " '__sizeof__',\n",
       " '__str__',\n",
       " '__subclasshook__',\n",
       " 'co_argcount',\n",
       " 'co_cellvars',\n",
       " 'co_code',\n",
       " 'co_consts',\n",
       " 'co_filename',\n",
       " 'co_firstlineno',\n",
       " 'co_flags',\n",
       " 'co_freevars',\n",
       " 'co_kwonlyargcount',\n",
       " 'co_lnotab',\n",
       " 'co_name',\n",
       " 'co_names',\n",
       " 'co_nlocals',\n",
       " 'co_posonlyargcount',\n",
       " 'co_stacksize',\n",
       " 'co_varnames',\n",
       " 'replace']"
      ]
     },
     "execution_count": 11,
     "metadata": {},
     "output_type": "execute_result"
    }
   ],
   "source": [
    "dir(code)"
   ]
  },
  {
   "cell_type": "code",
   "execution_count": 12,
   "id": "e365c343-2359-47b9-b9c1-4141e7e19a2e",
   "metadata": {},
   "outputs": [
    {
     "name": "stdout",
     "output_type": "stream",
     "text": [
      "rg\n",
      "exponential\n"
     ]
    }
   ],
   "source": [
    "for n in code.co_names:\n",
    "    print(n)"
   ]
  },
  {
   "cell_type": "code",
   "execution_count": 13,
   "id": "a68a60ee-dce3-4d2f-a43f-58b256ed081e",
   "metadata": {},
   "outputs": [
    {
     "name": "stdout",
     "output_type": "stream",
     "text": [
      "5.0\n"
     ]
    }
   ],
   "source": [
    "for n in code.co_consts:\n",
    "    print(n)"
   ]
  },
  {
   "cell_type": "code",
   "execution_count": 14,
   "id": "01d4bf4b-27c7-45d5-9401-ca37d3a543b5",
   "metadata": {},
   "outputs": [
    {
     "name": "stdout",
     "output_type": "stream",
     "text": [
      "rg\n",
      "exponential\n",
      "mean_los\n"
     ]
    }
   ],
   "source": [
    "obs_dist_str = 'exponential(mean_los)'\n",
    "obs_dist_rg_str = f'rg.{obs_dist_str}'\n",
    "obs_dist_rg_str\n",
    "co_obs_dist = compile(obs_dist_rg_str, \"<string>\", \"eval\")\n",
    "\n",
    "for n in co_obs_dist.co_names:\n",
    "    print(n)\n",
    "    \n",
    "for n in co_obs_dist.co_consts:\n",
    "    print(n)\n",
    "    \n",
    "for n in co_obs_dist.co_freevars:\n",
    "    print(n)"
   ]
  },
  {
   "cell_type": "code",
   "execution_count": 5,
   "id": "51c5a21b-9a3f-4127-a2d5-0b441dd6fac1",
   "metadata": {},
   "outputs": [
    {
     "data": {
      "text/plain": [
       "{'los_params': {'mean_los_csect': 1.0,\n",
       "  'mean_los_ldr': 12.0,\n",
       "  'mean_los_obs': 2.4,\n",
       "  'mean_los_pp_c': 72.0,\n",
       "  'mean_los_pp_noc': 48.0,\n",
       "  'num_erlang_stages_csect': 4,\n",
       "  'num_erlang_stages_ldr': 2,\n",
       "  'num_erlang_stages_obs': 1,\n",
       "  'num_erlang_stages_pp': 8}}"
      ]
     },
     "execution_count": 5,
     "metadata": {},
     "output_type": "execute_result"
    }
   ],
   "source": [
    "los_params_str = \"\"\"\n",
    "los_params:\n",
    "    mean_los_csect: 1.0\n",
    "    mean_los_ldr: 12.0\n",
    "    mean_los_obs: 2.4\n",
    "    mean_los_pp_c: 72.0\n",
    "    mean_los_pp_noc: 48.0\n",
    "    num_erlang_stages_csect: 4\n",
    "    num_erlang_stages_ldr: 2\n",
    "    num_erlang_stages_obs: 1\n",
    "    num_erlang_stages_pp: 8\"\"\"\n",
    "\n",
    "los_params = yaml.safe_load(los_params_str)\n",
    "los_params"
   ]
  },
  {
   "cell_type": "code",
   "execution_count": 6,
   "id": "c3ca07a4-a758-4cb1-819a-baa1f9c9a266",
   "metadata": {},
   "outputs": [
    {
     "data": {
      "text/plain": [
       "{'los_distributions': {'RAND_SPONT_REG': {'OBS': 'gamma(num_erlang_stages_obs, mean_los_obs / num_erlang_stages_obs)',\n",
       "   'LDR': 'gamma(num_erlang_stages_ldr, mean_los_ldr / num_erlang_stages_ldr)',\n",
       "   'PP': 'gamma(num_erlang_stages_pp, mean_los_pp_noc / num_erlang_stages_pp)'},\n",
       "  'RAND_SPONT_CSECT': {'OBS': 'gamma(num_erlang_stages_obs, mean_los_obs / num_erlang_stages_obs)',\n",
       "   'LDR': 'gamma(num_erlang_stages_csect, mean_los_csect / num_erlang_stages_csect)',\n",
       "   'PP': 'gamma(num_erlang_stages_pp, mean_los_pp_c / num_erlang_stages_pp)'}}}"
      ]
     },
     "execution_count": 6,
     "metadata": {},
     "output_type": "execute_result"
    }
   ],
   "source": [
    "los_dists_str = \"\"\"\n",
    "los_distributions:\n",
    "    RAND_SPONT_REG:\n",
    "        OBS: gamma(num_erlang_stages_obs, mean_los_obs / num_erlang_stages_obs)\n",
    "        LDR: gamma(num_erlang_stages_ldr, mean_los_ldr / num_erlang_stages_ldr)\n",
    "        PP:  gamma(num_erlang_stages_pp, mean_los_pp_noc / num_erlang_stages_pp)\n",
    "    RAND_SPONT_CSECT:\n",
    "        OBS: gamma(num_erlang_stages_obs, mean_los_obs / num_erlang_stages_obs)\n",
    "        LDR: gamma(num_erlang_stages_ldr, mean_los_ldr / num_erlang_stages_ldr)\n",
    "        LDR: gamma(num_erlang_stages_csect, mean_los_csect / num_erlang_stages_csect)\n",
    "        PP:  gamma(num_erlang_stages_pp, mean_los_pp_c / num_erlang_stages_pp)\"\"\"\n",
    "\n",
    "los_dists = yaml.safe_load(los_dists_str)\n",
    "los_dists"
   ]
  },
  {
   "cell_type": "code",
   "execution_count": 17,
   "id": "536ac081-e1fa-43f7-8263-7c66b6a449f7",
   "metadata": {},
   "outputs": [
    {
     "data": {
      "text/plain": [
       "{'beta': <function RandomState.beta>,\n",
       " 'binomial': <function RandomState.binomial>,\n",
       " 'chisquare': <function RandomState.chisquare>,\n",
       " 'exponential': <function RandomState.exponential>,\n",
       " 'gamma': <function RandomState.gamma>,\n",
       " 'geometric': <function RandomState.geometric>,\n",
       " 'hypergeometric': <function RandomState.hypergeometric>,\n",
       " 'laplace': <function RandomState.laplace>,\n",
       " 'logistic': <function RandomState.logistic>,\n",
       " 'lognormal': <function RandomState.lognormal>,\n",
       " 'multinomial': <function RandomState.multinomial>,\n",
       " 'negative_binomial': <function RandomState.negative_binomial>,\n",
       " 'normal': <function RandomState.normal>,\n",
       " 'pareto': <function RandomState.pareto>,\n",
       " 'poisson': <function RandomState.poisson>,\n",
       " 'triangular': <function RandomState.triangular>,\n",
       " 'uniform': <function RandomState.uniform>,\n",
       " 'weibull': <function RandomState.weibull>,\n",
       " 'zipf': <function RandomState.zipf>}"
      ]
     },
     "execution_count": 17,
     "metadata": {},
     "output_type": "execute_result"
    }
   ],
   "source": [
    "ALLOWED_DIST_LIST = ['beta', 'binomial', 'chisquare', 'exponential', 'gamma',\n",
    "                    'geometric', 'hypergeometric', 'laplace', 'logistic', 'lognormal',\n",
    "                    'multinomial', 'negative_binomial', 'normal', 'pareto',\n",
    "                    'poisson', 'triangular', 'uniform','weibull', 'zipf']\n",
    "{\n",
    "\n",
    "    k: v for k, v in numpy.random.__dict__.items() if k in ALLOWED_DIST_LIST\n",
    "\n",
    "}"
   ]
  },
  {
   "cell_type": "code",
   "execution_count": 11,
   "id": "76f2c58f-5801-4530-9cfb-63bb81cfa7aa",
   "metadata": {},
   "outputs": [
    {
     "data": {
      "text/plain": [
       "'gamma(num_erlang_stages_obs, mean_los_obs / num_erlang_stages_obs)'"
      ]
     },
     "execution_count": 11,
     "metadata": {},
     "output_type": "execute_result"
    }
   ],
   "source": [
    "co_test_dist_str = los_dists['los_distributions']['RAND_SPONT_REG']['OBS']\n",
    "co_test_dist_str"
   ]
  },
  {
   "cell_type": "code",
   "execution_count": 15,
   "id": "37f46548-fba8-4ef5-9bb2-8d84224723c9",
   "metadata": {},
   "outputs": [
    {
     "name": "stdout",
     "output_type": "stream",
     "text": [
      "**names**\n",
      "rg\n",
      "gamma\n",
      "num_erlang_stages_obs\n",
      "mean_los_obs\n",
      "**varnames**\n",
      "**consts**\n",
      "freevars\n"
     ]
    }
   ],
   "source": [
    "test_dist_rg_str = f'rg.{co_test_dist_str}'\n",
    "co_test_dist = compile(test_dist_rg_str, \"<string>\", \"eval\")\n",
    "\n",
    "print(\"**names**\")\n",
    "for n in co_test_dist.co_names:\n",
    "    print(n)\n",
    "print(\"**varnames**\")\n",
    "for n in co_test_dist.co_varnames:\n",
    "    print(n)\n",
    "print(\"**consts**\")   \n",
    "for n in co_test_dist.co_consts:\n",
    "    print(n)\n",
    "print(\"**freevars**\")    \n",
    "for n in co_test_dist.co_freevars:\n",
    "    print(n)"
   ]
  },
  {
   "cell_type": "code",
   "execution_count": 18,
   "id": "639da9f8-e66d-4b05-b1c0-e41e2a23cafc",
   "metadata": {},
   "outputs": [
    {
     "name": "stdout",
     "output_type": "stream",
     "text": [
      "rg True\n",
      "gamma True\n",
      "num_erlang_stages_obs True\n",
      "mean_los_obs True\n"
     ]
    }
   ],
   "source": [
    "for n in co_test_dist.co_names:\n",
    "    okname = n in ALLOWED_DIST_LIST or n == 'rg' or n in los_params['los_params']\n",
    "    print(n, okname)\n",
    "    \n",
    "    if n in los_params['los_params']"
   ]
  },
  {
   "cell_type": "code",
   "execution_count": 26,
   "id": "4898a219-a7db-43a7-a372-64e2ea726fcc",
   "metadata": {},
   "outputs": [
    {
     "data": {
      "text/plain": [
       "{'mean_los_csect': 1.0,\n",
       " 'mean_los_ldr': 12.0,\n",
       " 'mean_los_obs': 2.4,\n",
       " 'mean_los_pp_c': 72.0,\n",
       " 'mean_los_pp_noc': 48.0,\n",
       " 'num_erlang_stages_csect': 4,\n",
       " 'num_erlang_stages_ldr': 2,\n",
       " 'num_erlang_stages_obs': 1,\n",
       " 'num_erlang_stages_pp': 8}"
      ]
     },
     "execution_count": 26,
     "metadata": {},
     "output_type": "execute_result"
    }
   ],
   "source": [
    "los_global_params = los_params['los_params']\n",
    "los_global_params"
   ]
  },
  {
   "cell_type": "markdown",
   "id": "563616f5-0a68-4117-8fa0-088649f2bcc9",
   "metadata": {},
   "source": [
    "I think we need to just step through the global params:\n",
    " - check if in each of the distributions\n",
    " - if we find it, replace it with its value (gotten from the dict).\n",
    " \n",
    "Above idea is tricky/tedious since we have to search the nested dict. Easier approach is to use json to dump the dict to a string, do all the S&R and read back into a dict."
   ]
  },
  {
   "cell_type": "code",
   "execution_count": 32,
   "id": "307ac5dd-db71-4aba-b7b9-aebd4624cbc4",
   "metadata": {},
   "outputs": [
    {
     "name": "stdout",
     "output_type": "stream",
     "text": [
      "{'los_distributions': {'RAND_SPONT_REG': {'OBS': 'gamma(num_erlang_stages_obs, mean_los_obs / num_erlang_stages_obs)', 'LDR': 'gamma(num_erlang_stages_ldr, mean_los_ldr / num_erlang_stages_ldr)', 'PP': 'gamma(num_erlang_stages_pp, mean_los_pp_noc / num_erlang_stages_pp)'}, 'RAND_SPONT_CSECT': {'OBS': 'gamma(num_erlang_stages_obs, mean_los_obs / num_erlang_stages_obs)', 'LDR': 'gamma(num_erlang_stages_csect, mean_los_csect / num_erlang_stages_csect)', 'PP': 'gamma(num_erlang_stages_pp, mean_los_pp_c / num_erlang_stages_pp)'}}}\n",
      "{'los_distributions': {'RAND_SPONT_REG': {'OBS': 'gamma(1, mean_los_obs / 1)', 'LDR': 'gamma(num_erlang_stages_ldr, mean_los_ldr / num_erlang_stages_ldr)', 'PP': 'gamma(num_erlang_stages_pp, mean_los_pp_noc / num_erlang_stages_pp)'}, 'RAND_SPONT_CSECT': {'OBS': 'gamma(1, mean_los_obs / 1)', 'LDR': 'gamma(num_erlang_stages_csect, mean_los_csect / num_erlang_stages_csect)', 'PP': 'gamma(num_erlang_stages_pp, mean_los_pp_c / num_erlang_stages_pp)'}}}\n"
     ]
    }
   ],
   "source": [
    "print(los_dists)\n",
    "\n",
    "#for param in los_global_params:\n",
    "param = 'num_erlang_stages_obs'\n",
    "\n",
    "los_dists_str_json = json.dumps(los_dists)\n",
    "los_dists_str_json = los_dists_str_json.replace(param, str(los_global_params[param]))\n",
    "\n",
    "los_dists = json.loads(los_dists_str_json)\n",
    "print(los_dists)   "
   ]
  },
  {
   "cell_type": "code",
   "execution_count": 33,
   "id": "87e5abff-6ee5-46b4-9c5c-ac157b310a63",
   "metadata": {},
   "outputs": [
    {
     "name": "stdout",
     "output_type": "stream",
     "text": [
      "{'los_distributions': {'RAND_SPONT_REG': {'OBS': 'gamma(1, mean_los_obs / 1)', 'LDR': 'gamma(num_erlang_stages_ldr, mean_los_ldr / num_erlang_stages_ldr)', 'PP': 'gamma(num_erlang_stages_pp, mean_los_pp_noc / num_erlang_stages_pp)'}, 'RAND_SPONT_CSECT': {'OBS': 'gamma(1, mean_los_obs / 1)', 'LDR': 'gamma(num_erlang_stages_csect, mean_los_csect / num_erlang_stages_csect)', 'PP': 'gamma(num_erlang_stages_pp, mean_los_pp_c / num_erlang_stages_pp)'}}}\n",
      "{'los_distributions': {'RAND_SPONT_REG': {'OBS': 'gamma(1, 2.4 / 1)', 'LDR': 'gamma(2, 12.0 / 2)', 'PP': 'gamma(8, 48.0 / 8)'}, 'RAND_SPONT_CSECT': {'OBS': 'gamma(1, 2.4 / 1)', 'LDR': 'gamma(4, 1.0 / 4)', 'PP': 'gamma(8, 72.0 / 8)'}}}\n"
     ]
    }
   ],
   "source": [
    "print(los_dists)\n",
    "\n",
    "los_dists_str_json = json.dumps(los_dists)\n",
    "for param in los_global_params:\n",
    "    los_dists_str_json = los_dists_str_json.replace(param, str(los_global_params[param]))\n",
    "\n",
    "los_dists = json.loads(los_dists_str_json)\n",
    "print(los_dists)   "
   ]
  },
  {
   "cell_type": "markdown",
   "id": "d6301865-b79b-455f-859b-7d2f9d2d4d07",
   "metadata": {},
   "source": [
    "Now, let's get one dist and create a partial function based on it eval()'d."
   ]
  },
  {
   "cell_type": "code",
   "execution_count": 34,
   "id": "0e171c08-a0a7-4773-92b9-4c93525f24c7",
   "metadata": {},
   "outputs": [
    {
     "data": {
      "text/plain": [
       "'gamma(1, 2.4 / 1)'"
      ]
     },
     "execution_count": 34,
     "metadata": {},
     "output_type": "execute_result"
    }
   ],
   "source": [
    "co_test_dist_str = los_dists['los_distributions']['RAND_SPONT_REG']['OBS']\n",
    "co_test_dist_str"
   ]
  },
  {
   "cell_type": "code",
   "execution_count": 37,
   "id": "61aa0cb4-42fe-4d24-8571-fec7d239fc36",
   "metadata": {},
   "outputs": [
    {
     "data": {
      "text/plain": [
       "12.901048494259504"
      ]
     },
     "execution_count": 37,
     "metadata": {},
     "output_type": "execute_result"
    }
   ],
   "source": [
    "eval(f'rg.{co_test_dist_str}')"
   ]
  },
  {
   "cell_type": "code",
   "execution_count": 38,
   "id": "b4c78e3a-8547-45f4-83f3-b2914e07f122",
   "metadata": {},
   "outputs": [
    {
     "data": {
      "text/plain": [
       "['gamma(1, 2.4 / 1)']"
      ]
     },
     "execution_count": 38,
     "metadata": {},
     "output_type": "execute_result"
    }
   ],
   "source": [
    "co_test_dist_str_list = [los_dists['los_distributions']['RAND_SPONT_REG']['OBS']]\n",
    "co_test_dist_str_list"
   ]
  },
  {
   "cell_type": "code",
   "execution_count": 52,
   "id": "f7176c4a-28de-4937-affe-57f4c3ee4b9a",
   "metadata": {},
   "outputs": [
    {
     "name": "stdout",
     "output_type": "stream",
     "text": [
      "gamma (1, 2.4) {}\n"
     ]
    }
   ],
   "source": [
    "def get_args_and_kwargs(*args, **kwargs):\n",
    "    return args, kwargs\n",
    "\n",
    "def convert_str_to_args_and_kwargs(s):\n",
    "    return eval(s.replace(s[:s.find('(')], 'get_args_and_kwargs'))\n",
    "\n",
    "def convert_str_to_func_name(s):\n",
    "    return s[:s.find('(')]\n",
    "\n",
    "for s in co_test_dist_str_list:\n",
    "    func_name = convert_str_to_func_name(s)\n",
    "    args, kwargs = convert_str_to_args_and_kwargs(s)\n",
    "    print(func_name, args, kwargs)"
   ]
  },
  {
   "cell_type": "code",
   "execution_count": 40,
   "id": "1c04d14c-08b8-4afa-bbef-7cffb72ba5f8",
   "metadata": {},
   "outputs": [
    {
     "data": {
      "text/plain": [
       "(1, 2.4)"
      ]
     },
     "execution_count": 40,
     "metadata": {},
     "output_type": "execute_result"
    }
   ],
   "source": [
    "args"
   ]
  },
  {
   "cell_type": "code",
   "execution_count": 41,
   "id": "fd948cc7-b954-4bf0-b731-17d4ba67d18b",
   "metadata": {},
   "outputs": [
    {
     "data": {
      "text/plain": [
       "functools.partial(<built-in method gamma of numpy.random._generator.Generator object at 0x7f148694b580>, (1, 2.4))"
      ]
     },
     "execution_count": 41,
     "metadata": {},
     "output_type": "execute_result"
    }
   ],
   "source": [
    "partial(rg.gamma, args)"
   ]
  },
  {
   "cell_type": "code",
   "execution_count": 45,
   "id": "3ae74e9b-9355-4e9d-8cfb-e3af3d8ece8a",
   "metadata": {},
   "outputs": [],
   "source": [
    "new_gamma = partial(rg.gamma, *args)"
   ]
  },
  {
   "cell_type": "code",
   "execution_count": 48,
   "id": "18850882-58c6-434c-93a7-551519fa708f",
   "metadata": {},
   "outputs": [
    {
     "data": {
      "text/plain": [
       "0.07131226070946209"
      ]
     },
     "execution_count": 48,
     "metadata": {},
     "output_type": "execute_result"
    }
   ],
   "source": [
    "new_gamma()"
   ]
  },
  {
   "cell_type": "code",
   "execution_count": 49,
   "id": "66d5c97a-2216-4d74-8a4c-efc6c0da39f0",
   "metadata": {},
   "outputs": [],
   "source": [
    "new_gamma2 = partial(eval('rg.gamma'), *args)"
   ]
  },
  {
   "cell_type": "code",
   "execution_count": 51,
   "id": "623e69d3-e334-4e96-a79d-f03f4df93c26",
   "metadata": {},
   "outputs": [
    {
     "data": {
      "text/plain": [
       "2.499500194434012"
      ]
     },
     "execution_count": 51,
     "metadata": {},
     "output_type": "execute_result"
    }
   ],
   "source": [
    "new_gamma()"
   ]
  },
  {
   "cell_type": "markdown",
   "id": "9f63dc35-c2f4-4c3a-88f3-a33c6453ccf7",
   "metadata": {},
   "source": [
    "Ok, let's try to put it all together using the los_dists dict"
   ]
  },
  {
   "cell_type": "code",
   "execution_count": 4,
   "id": "f1c60aa0-80ce-4c70-a680-477a90a04d41",
   "metadata": {},
   "outputs": [
    {
     "data": {
      "text/plain": [
       "{'RAND_SPONT_REG': {'OBS': 'gamma(num_erlang_stages_obs, mean_los_obs / num_erlang_stages_obs)',\n",
       "  'LDR': 'gamma(num_erlang_stages_ldr, mean_los_ldr / num_erlang_stages_ldr)',\n",
       "  'PP': 'gamma(num_erlang_stages_pp, mean_los_pp_noc / num_erlang_stages_pp)'},\n",
       " 'RAND_SPONT_CSECT': {'OBS': 'gamma(num_erlang_stages_obs, mean_los_obs / num_erlang_stages_obs)',\n",
       "  'LDR': 'gamma(num_erlang_stages_csect, mean_los_csect / num_erlang_stages_csect)',\n",
       "  'PP': 'gamma(num_erlang_stages_pp, mean_los_pp_c / num_erlang_stages_pp)'}}"
      ]
     },
     "execution_count": 4,
     "metadata": {},
     "output_type": "execute_result"
    }
   ],
   "source": [
    "los_dists_str = \"\"\"\n",
    "    RAND_SPONT_REG:\n",
    "        OBS: gamma(num_erlang_stages_obs, mean_los_obs / num_erlang_stages_obs)\n",
    "        LDR: gamma(num_erlang_stages_ldr, mean_los_ldr / num_erlang_stages_ldr)\n",
    "        PP:  gamma(num_erlang_stages_pp, mean_los_pp_noc / num_erlang_stages_pp)\n",
    "    RAND_SPONT_CSECT:\n",
    "        OBS: gamma(num_erlang_stages_obs, mean_los_obs / num_erlang_stages_obs)\n",
    "        LDR: gamma(num_erlang_stages_ldr, mean_los_ldr / num_erlang_stages_ldr)\n",
    "        LDR: gamma(num_erlang_stages_csect, mean_los_csect / num_erlang_stages_csect)\n",
    "        PP:  gamma(num_erlang_stages_pp, mean_los_pp_c / num_erlang_stages_pp)\"\"\"\n",
    "\n",
    "los_dists = yaml.safe_load(los_dists_str)\n",
    "los_dists"
   ]
  },
  {
   "cell_type": "code",
   "execution_count": 6,
   "id": "903cdbff-eef4-456a-a0ee-6f4dfcaa5ba9",
   "metadata": {},
   "outputs": [
    {
     "data": {
      "text/plain": [
       "{'mean_los_csect': 1.0,\n",
       " 'mean_los_ldr': 12.0,\n",
       " 'mean_los_obs': 2.4,\n",
       " 'mean_los_pp_c': 72.0,\n",
       " 'mean_los_pp_noc': 48.0,\n",
       " 'num_erlang_stages_csect': 4,\n",
       " 'num_erlang_stages_ldr': 2,\n",
       " 'num_erlang_stages_obs': 1,\n",
       " 'num_erlang_stages_pp': 8}"
      ]
     },
     "execution_count": 6,
     "metadata": {},
     "output_type": "execute_result"
    }
   ],
   "source": [
    "los_params_str = \"\"\"\n",
    "mean_los_csect: 1.0\n",
    "mean_los_ldr: 12.0\n",
    "mean_los_obs: 2.4\n",
    "mean_los_pp_c: 72.0\n",
    "mean_los_pp_noc: 48.0\n",
    "num_erlang_stages_csect: 4\n",
    "num_erlang_stages_ldr: 2\n",
    "num_erlang_stages_obs: 1\n",
    "num_erlang_stages_pp: 8\"\"\"\n",
    "\n",
    "los_params = yaml.safe_load(los_params_str)\n",
    "los_params"
   ]
  },
  {
   "cell_type": "code",
   "execution_count": 10,
   "id": "fb3e75c6-d56e-4acf-a304-3ae4aa60909a",
   "metadata": {},
   "outputs": [
    {
     "name": "stdout",
     "output_type": "stream",
     "text": [
      "gamma\n",
      "(1, 2.4) {}\n",
      "gamma\n",
      "(2, 6.0) {}\n",
      "gamma\n",
      "(8, 6.0) {}\n",
      "gamma\n",
      "(1, 2.4) {}\n",
      "gamma\n",
      "(4, 0.25) {}\n",
      "gamma\n",
      "(8, 9.0) {}\n",
      "{'RAND_SPONT_REG': {'OBS': functools.partial(<built-in method gamma of numpy.random._generator.Generator object at 0x7f2e89ef34a0>, 1, 2.4), 'LDR': functools.partial(<built-in method gamma of numpy.random._generator.Generator object at 0x7f2e89ef34a0>, 2, 6.0), 'PP': functools.partial(<built-in method gamma of numpy.random._generator.Generator object at 0x7f2e89ef34a0>, 8, 6.0)}, 'RAND_SPONT_CSECT': {'OBS': functools.partial(<built-in method gamma of numpy.random._generator.Generator object at 0x7f2e89ef34a0>, 1, 2.4), 'LDR': functools.partial(<built-in method gamma of numpy.random._generator.Generator object at 0x7f2e89ef34a0>, 4, 0.25), 'PP': functools.partial(<built-in method gamma of numpy.random._generator.Generator object at 0x7f2e89ef34a0>, 8, 9.0)}}\n"
     ]
    }
   ],
   "source": [
    "ALLOWED_LOS_DIST_LIST = ['beta', 'binomial', 'chisquare', 'exponential', 'gamma',\n",
    "                    'geometric', 'hypergeometric', 'laplace', 'logistic', 'lognormal',\n",
    "                    'multinomial', 'negative_binomial', 'normal', 'pareto',\n",
    "                    'poisson', 'triangular', 'uniform','weibull', 'zipf']\n",
    "\n",
    "def get_args_and_kwargs(*args, **kwargs):\n",
    "    return args, kwargs\n",
    "\n",
    "def convert_str_to_args_and_kwargs(s):\n",
    "    return eval(s.replace(s[:s.find('(')], 'get_args_and_kwargs'))\n",
    "\n",
    "def convert_str_to_func_name(s):\n",
    "    return s[:s.find('(')]\n",
    "\n",
    "los_dists_str_json = json.dumps(los_dists)\n",
    "for param in los_params:\n",
    "    los_dists_str_json = los_dists_str_json.replace(param, str(los_params[param]))\n",
    "\n",
    "los_dists_instantiated = json.loads(los_dists_str_json)\n",
    "\n",
    "los_dists_partials = copy.deepcopy(los_dists_instantiated)\n",
    "for key_pat_type in los_dists_partials:\n",
    "    for key_unit, raw_dist_str in los_dists_partials[key_pat_type].items():\n",
    "        func_name = convert_str_to_func_name(raw_dist_str)\n",
    "        print(func_name)\n",
    "        # Check for valid func name\n",
    "        if func_name in ALLOWED_LOS_DIST_LIST:\n",
    "            args, kwargs = convert_str_to_args_and_kwargs(raw_dist_str)\n",
    "            print(args, kwargs)\n",
    "            partial_dist_func = partial(eval(f'rg.{func_name}'), *args)\n",
    "            los_dists_partials[key_pat_type][key_unit] = partial_dist_func\n",
    "        else:\n",
    "            raise NameError(f\"The use of '{func_name}' is not allowed\")\n",
    "\n",
    "print(los_dists_partials)"
   ]
  },
  {
   "cell_type": "code",
   "execution_count": 59,
   "id": "6b3bdc13-26a6-4152-8238-80fce62419a1",
   "metadata": {},
   "outputs": [
    {
     "data": {
      "text/plain": [
       "{'los_distributions': {'RAND_SPONT_REG': {'OBS': functools.partial(<built-in method gamma of numpy.random._generator.Generator object at 0x7f148694b580>, 1, 2.4), 'LDR': functools.partial(<built-in method gamma of numpy.random._generator.Generator object at 0x7f148694b580>, 2, 6.0), 'PP': functools.partial(<built-in method gamma of numpy.random._generator.Generator object at 0x7f148694b580>, 8, 6.0)}, 'RAND_SPONT_CSECT': {'OBS': functools.partial(<built-in method gamma of numpy.random._generator.Generator object at 0x7f148694b580>, 1, 2.4), 'LDR': functools.partial(<built-in method gamma of numpy.random._generator.Generator object at 0x7f148694b580>, 4, 0.25), 'PP': functools.partial(<built-in method gamma of numpy.random._generator.Generator object at 0x7f148694b580>, 8, 9.0)}}}"
      ]
     },
     "execution_count": 59,
     "metadata": {},
     "output_type": "execute_result"
    }
   ],
   "source": [
    "los_dists_partials"
   ]
  },
  {
   "cell_type": "code",
   "execution_count": null,
   "id": "96ea21af-7209-4e80-8070-ead821e61e6e",
   "metadata": {},
   "outputs": [],
   "source": []
  },
  {
   "cell_type": "markdown",
   "id": "3ae808d6-18c7-44a8-b012-db6e977a5fc3",
   "metadata": {},
   "source": [
    "## Graph operations"
   ]
  },
  {
   "cell_type": "code",
   "execution_count": 11,
   "id": "cd71bbf6-5ac2-41a1-8651-55556a72e149",
   "metadata": {},
   "outputs": [],
   "source": [
    "import networkx as nx"
   ]
  },
  {
   "cell_type": "code",
   "execution_count": 12,
   "id": "d7f8011e-2dbb-45b8-b4ea-16e572e30131",
   "metadata": {},
   "outputs": [],
   "source": [
    "route_graph = nx.DiGraph()"
   ]
  },
  {
   "cell_type": "code",
   "execution_count": 13,
   "id": "02ce49fc-1c62-4450-9dbd-323f35041df4",
   "metadata": {},
   "outputs": [],
   "source": [
    "routes_str = \"\"\"routes:\n",
    "  1:\n",
    "    edges:\n",
    "    - from: ENTRY\n",
    "      id: ENTRY_OBS\n",
    "      to: OBS\n",
    "    - from: OBS\n",
    "      id: OBS_LDR\n",
    "      to: LDR\n",
    "    - from: LDR\n",
    "      id: LDR_PP\n",
    "      to: PP\n",
    "    - from: PP\n",
    "      id: PP_EXIT\n",
    "      to: EXIT\n",
    "    id: 1\n",
    "  2:\n",
    "    edges:\n",
    "    - from: ENTRY\n",
    "      id: ENTRY_OBS\n",
    "      to: OBS\n",
    "    - from: OBS\n",
    "      id: OBS_LDR\n",
    "      to: LDR\n",
    "    - from: LDR\n",
    "      id: LDR_CSECT\n",
    "      to: CSECT\n",
    "    - from: CSECT\n",
    "      id: CSECT_pp\n",
    "      to: PP\n",
    "    - from: PP\n",
    "      id: PP_EXIT\n",
    "      to: EXIT\n",
    "    id: 2\"\"\""
   ]
  },
  {
   "cell_type": "code",
   "execution_count": 14,
   "id": "53252d01-ed61-4f91-91ae-24e8d6b50ce0",
   "metadata": {},
   "outputs": [
    {
     "data": {
      "text/plain": [
       "{'routes': {1: {'edges': [{'from': 'ENTRY', 'id': 'ENTRY_OBS', 'to': 'OBS'},\n",
       "    {'from': 'OBS', 'id': 'OBS_LDR', 'to': 'LDR'},\n",
       "    {'from': 'LDR', 'id': 'LDR_PP', 'to': 'PP'},\n",
       "    {'from': 'PP', 'id': 'PP_EXIT', 'to': 'EXIT'}],\n",
       "   'id': 1},\n",
       "  2: {'edges': [{'from': 'ENTRY', 'id': 'ENTRY_OBS', 'to': 'OBS'},\n",
       "    {'from': 'OBS', 'id': 'OBS_LDR', 'to': 'LDR'},\n",
       "    {'from': 'LDR', 'id': 'LDR_CSECT', 'to': 'CSECT'},\n",
       "    {'from': 'CSECT', 'id': 'CSECT_pp', 'to': 'PP'},\n",
       "    {'from': 'PP', 'id': 'PP_EXIT', 'to': 'EXIT'}],\n",
       "   'id': 2}}}"
      ]
     },
     "execution_count": 14,
     "metadata": {},
     "output_type": "execute_result"
    }
   ],
   "source": [
    "routes = yaml.safe_load(routes_str)\n",
    "routes"
   ]
  },
  {
   "cell_type": "code",
   "execution_count": 19,
   "id": "c98cca52-cf5f-4eff-aacc-bf77902190f1",
   "metadata": {},
   "outputs": [],
   "source": [
    "locations_str = \"\"\"\n",
    "  ENTRY:\n",
    "    capacity: 1000\n",
    "    name: ENTRY\n",
    "  OBS:\n",
    "    capacity: 100\n",
    "    name: OBS\n",
    "  LDR:\n",
    "    capacity: 16\n",
    "    name: LDR\n",
    "  CSECT:\n",
    "    capacity: 1000\n",
    "    name: CSECT\n",
    "  PP:\n",
    "    capacity: 36\n",
    "    name: PP\n",
    "  EXIT:\n",
    "    capacity: 1000\n",
    "    name: EXIT\"\"\""
   ]
  },
  {
   "cell_type": "code",
   "execution_count": 20,
   "id": "dea3bed8-af2d-4ef5-84b1-cccb784576d3",
   "metadata": {},
   "outputs": [
    {
     "data": {
      "text/plain": [
       "{'ENTRY': {'capacity': 1000, 'name': 'ENTRY'},\n",
       " 'OBS': {'capacity': 100, 'name': 'OBS'},\n",
       " 'LDR': {'capacity': 16, 'name': 'LDR'},\n",
       " 'CSECT': {'capacity': 1000, 'name': 'CSECT'},\n",
       " 'PP': {'capacity': 36, 'name': 'PP'},\n",
       " 'EXIT': {'capacity': 1000, 'name': 'EXIT'}}"
      ]
     },
     "execution_count": 20,
     "metadata": {},
     "output_type": "execute_result"
    }
   ],
   "source": [
    "locations = yaml.safe_load(locations_str)\n",
    "locations"
   ]
  },
  {
   "cell_type": "code",
   "execution_count": 21,
   "id": "cf806757-a0b5-45d7-b3e7-a60994e32a5f",
   "metadata": {},
   "outputs": [
    {
     "name": "stdout",
     "output_type": "stream",
     "text": [
      "ENTRY\n",
      "{'capacity': 1000, 'name': 'ENTRY'}\n",
      "OBS\n",
      "{'capacity': 100, 'name': 'OBS'}\n",
      "LDR\n",
      "{'capacity': 16, 'name': 'LDR'}\n",
      "CSECT\n",
      "{'capacity': 1000, 'name': 'CSECT'}\n",
      "PP\n",
      "{'capacity': 36, 'name': 'PP'}\n",
      "EXIT\n",
      "{'capacity': 1000, 'name': 'EXIT'}\n"
     ]
    }
   ],
   "source": [
    "for loc_name, location in locations.items():\n",
    "    print(loc_name)\n",
    "    print(location)\n",
    "    route_graph.add_node(loc_name, \n",
    "                         planned_los=0.0, actual_los=0.0, blocked_duration=0.0,\n",
    "                         name=location['name'])"
   ]
  },
  {
   "cell_type": "code",
   "execution_count": 24,
   "id": "0f9b3f42-c67f-4155-a974-a6825b9afaf1",
   "metadata": {},
   "outputs": [],
   "source": [
    "route_graph.nodes['OBS']['planned_los'] = 5.5"
   ]
  },
  {
   "cell_type": "code",
   "execution_count": 25,
   "id": "9d1a46c0-f617-485e-a402-7da523d1ded5",
   "metadata": {},
   "outputs": [
    {
     "name": "stdout",
     "output_type": "stream",
     "text": [
      "ENTRY\n",
      "{'planned_los': 0.0, 'actual_los': 0.0, 'blocked_duration': 0.0, 'name': 'ENTRY'}\n",
      "OBS\n",
      "{'planned_los': 5.5, 'actual_los': 0.0, 'blocked_duration': 0.0, 'name': 'OBS'}\n",
      "LDR\n",
      "{'planned_los': 0.0, 'actual_los': 0.0, 'blocked_duration': 0.0, 'name': 'LDR'}\n",
      "CSECT\n",
      "{'planned_los': 0.0, 'actual_los': 0.0, 'blocked_duration': 0.0, 'name': 'CSECT'}\n",
      "PP\n",
      "{'planned_los': 0.0, 'actual_los': 0.0, 'blocked_duration': 0.0, 'name': 'PP'}\n",
      "EXIT\n",
      "{'planned_los': 0.0, 'actual_los': 0.0, 'blocked_duration': 0.0, 'name': 'EXIT'}\n"
     ]
    }
   ],
   "source": [
    "for node, data in route_graph.nodes(data=True):\n",
    "    print(node)\n",
    "    print(data)"
   ]
  },
  {
   "cell_type": "markdown",
   "id": "b7b9f653-7d50-418d-a450-ec60908a0b6e",
   "metadata": {},
   "source": [
    "## Simulation calendar"
   ]
  },
  {
   "cell_type": "code",
   "execution_count": 2,
   "id": "6967f804-4e7b-4b0c-ba0d-dcb0bdea71a8",
   "metadata": {},
   "outputs": [],
   "source": [
    "start_date = '2022-01-02'"
   ]
  },
  {
   "cell_type": "code",
   "execution_count": 3,
   "id": "80e5d8e8-e9ec-4152-8684-7ac590a9ccaa",
   "metadata": {},
   "outputs": [
    {
     "data": {
      "text/plain": [
       "Timestamp('2022-01-02 00:00:00')"
      ]
     },
     "execution_count": 3,
     "metadata": {},
     "output_type": "execute_result"
    }
   ],
   "source": [
    "start_date_ts = pd.Timestamp(start_date)\n",
    "start_date_ts"
   ]
  },
  {
   "cell_type": "code",
   "execution_count": 8,
   "id": "f8925dc2-c07c-4709-b788-c351ad9f5c2e",
   "metadata": {},
   "outputs": [
    {
     "data": {
      "text/plain": [
       "6"
      ]
     },
     "execution_count": 8,
     "metadata": {},
     "output_type": "execute_result"
    }
   ],
   "source": [
    "start_date_ts.weekday()"
   ]
  },
  {
   "cell_type": "code",
   "execution_count": 4,
   "id": "a61b26b1-50ce-49c2-b0c4-1ba89f168be2",
   "metadata": {},
   "outputs": [
    {
     "data": {
      "text/plain": [
       "Timedelta('10 days 05:36:00')"
      ]
     },
     "execution_count": 4,
     "metadata": {},
     "output_type": "execute_result"
    }
   ],
   "source": [
    "env_now = 245.6\n",
    "\n",
    "pd.to_timedelta(env_now, unit='h')"
   ]
  },
  {
   "cell_type": "code",
   "execution_count": 5,
   "id": "bcc1b005-0c0a-45d7-9181-81b7af13a4d2",
   "metadata": {},
   "outputs": [
    {
     "data": {
      "text/plain": [
       "Timestamp('2022-01-12 05:36:00')"
      ]
     },
     "execution_count": 5,
     "metadata": {},
     "output_type": "execute_result"
    }
   ],
   "source": [
    "now_calendar_time = start_date_ts + pd.to_timedelta(env_now, unit='h')\n",
    "now_calendar_time"
   ]
  },
  {
   "cell_type": "code",
   "execution_count": 6,
   "id": "036bd78f-1e9d-49e6-874b-b72cd92f7760",
   "metadata": {},
   "outputs": [
    {
     "data": {
      "text/plain": [
       "245.6"
      ]
     },
     "execution_count": 6,
     "metadata": {},
     "output_type": "execute_result"
    }
   ],
   "source": [
    "pd.Timedelta(now_calendar_time - start_date_ts, unit='h') / pd.to_timedelta(1, unit='h')"
   ]
  },
  {
   "cell_type": "code",
   "execution_count": 7,
   "id": "0661f528-24cd-486a-8136-48993d03ea17",
   "metadata": {},
   "outputs": [
    {
     "data": {
      "text/plain": [
       "2"
      ]
     },
     "execution_count": 7,
     "metadata": {},
     "output_type": "execute_result"
    }
   ],
   "source": [
    "now_calendar_time.weekday()"
   ]
  },
  {
   "cell_type": "code",
   "execution_count": 5,
   "id": "ed0fa1b7-6677-4fa1-ad2f-3f9b91560c22",
   "metadata": {},
   "outputs": [],
   "source": [
    "start_date = '1970-01-05'"
   ]
  },
  {
   "cell_type": "code",
   "execution_count": 6,
   "id": "6c84b122-772c-4cbf-a67f-377658107c7e",
   "metadata": {},
   "outputs": [
    {
     "name": "stdout",
     "output_type": "stream",
     "text": [
      "1970-01-05 00:00:00\n",
      "0\n"
     ]
    }
   ],
   "source": [
    "unix_epoch_ts = pd.Timestamp(start_date)\n",
    "print(unix_epoch_ts)\n",
    "print(unix_epoch_ts.weekday())"
   ]
  },
  {
   "cell_type": "markdown",
   "id": "06f4633d-9754-4698-8bc3-01b62ee1a670",
   "metadata": {},
   "source": [
    "## Scheduled cases\n",
    "\n",
    "[2025-07-23] Ended up dumping the following idea in favor of a \"long\" format file that specifies dow, time, number scheduled. The time parameter is in simulation time units. The dow parameter is 'mon', 'tue', etc."
   ]
  },
  {
   "cell_type": "code",
   "execution_count": 9,
   "id": "c8ed486f-fccf-494b-9722-1ff77532abcd",
   "metadata": {},
   "outputs": [
    {
     "name": "stdout",
     "output_type": "stream",
     "text": [
      "design_ideas.ipynb  input     mm_output   obflowsim_explainer.ipynb\n",
      "exp1_run.sh\t    mm_input  new_exp.sh  output\n"
     ]
    }
   ],
   "source": [
    "!ls"
   ]
  },
  {
   "cell_type": "code",
   "execution_count": 5,
   "id": "49033b87-7e79-4824-a6b7-77d577469ab8",
   "metadata": {},
   "outputs": [],
   "source": [
    "filename = 'input/sched_c.txt'\n",
    "sched_c_arrivals = np.loadtxt(filename, dtype=int)"
   ]
  },
  {
   "cell_type": "code",
   "execution_count": 6,
   "id": "92c12b73-f363-45bf-99bd-826695ffa9cd",
   "metadata": {},
   "outputs": [
    {
     "data": {
      "text/plain": [
       "array([[0, 0, 0, 0, 0, 0, 1, 1, 1, 0, 0, 0, 0, 0, 0, 0, 0, 0, 0, 0, 0, 0,\n",
       "        0, 0],\n",
       "       [0, 0, 0, 0, 0, 0, 0, 0, 0, 0, 0, 0, 0, 0, 0, 0, 0, 0, 0, 0, 0, 0,\n",
       "        0, 0],\n",
       "       [0, 0, 0, 0, 0, 0, 1, 0, 0, 0, 0, 0, 0, 0, 1, 1, 0, 0, 0, 0, 0, 0,\n",
       "        0, 0],\n",
       "       [0, 0, 0, 0, 0, 0, 1, 1, 1, 0, 0, 0, 0, 0, 0, 0, 1, 1, 1, 0, 1, 0,\n",
       "        0, 0],\n",
       "       [0, 0, 0, 0, 0, 0, 0, 0, 0, 0, 0, 0, 0, 0, 0, 0, 1, 1, 1, 0, 1, 0,\n",
       "        0, 0],\n",
       "       [0, 0, 0, 0, 0, 0, 0, 0, 0, 0, 0, 0, 0, 0, 0, 0, 0, 0, 0, 0, 0, 0,\n",
       "        0, 0],\n",
       "       [0, 0, 0, 0, 0, 0, 0, 0, 0, 0, 0, 0, 0, 0, 0, 0, 0, 0, 0, 0, 0, 0,\n",
       "        0, 0]])"
      ]
     },
     "execution_count": 6,
     "metadata": {},
     "output_type": "execute_result"
    }
   ],
   "source": [
    "sched_c_arrivals"
   ]
  },
  {
   "cell_type": "code",
   "execution_count": 7,
   "id": "6d6b6609-d517-4dbd-bd4e-dc1380e2d679",
   "metadata": {},
   "outputs": [
    {
     "data": {
      "text/plain": [
       "(7, 24)"
      ]
     },
     "execution_count": 7,
     "metadata": {},
     "output_type": "execute_result"
    }
   ],
   "source": [
    "sched_c_arrivals.shape"
   ]
  },
  {
   "cell_type": "code",
   "execution_count": 8,
   "id": "1dfaea97-eb4a-4c74-8d89-ed3ba445f60a",
   "metadata": {},
   "outputs": [
    {
     "data": {
      "text/plain": [
       "168.0"
      ]
     },
     "execution_count": 8,
     "metadata": {},
     "output_type": "execute_result"
    }
   ],
   "source": [
    "pd.to_timedelta(1, unit='w') / pd.to_timedelta(1, unit='h')"
   ]
  },
  {
   "cell_type": "code",
   "execution_count": 9,
   "id": "4a915a30-97bd-407d-883a-d5e52ab7641e",
   "metadata": {},
   "outputs": [
    {
     "data": {
      "text/plain": [
       "[(0, 6, 1),\n",
       " (0, 7, 1),\n",
       " (0, 8, 1),\n",
       " (2, 6, 1),\n",
       " (2, 14, 1),\n",
       " (2, 15, 1),\n",
       " (3, 6, 1),\n",
       " (3, 7, 1),\n",
       " (3, 8, 1),\n",
       " (3, 16, 1),\n",
       " (3, 17, 1),\n",
       " (3, 18, 1),\n",
       " (3, 20, 1),\n",
       " (4, 16, 1),\n",
       " (4, 17, 1),\n",
       " (4, 18, 1),\n",
       " (4, 20, 1)]"
      ]
     },
     "execution_count": 9,
     "metadata": {},
     "output_type": "execute_result"
    }
   ],
   "source": [
    "arrival_epochs = [(d, h, sched_c_arrivals[d, h]) for d in range(6) \n",
    "                              for h in range(23) if sched_c_arrivals[d, h] > 0]\n",
    "arrival_epochs"
   ]
  },
  {
   "cell_type": "code",
   "execution_count": 11,
   "id": "84b84e1c-43cf-4583-ab93-49406a232fb8",
   "metadata": {},
   "outputs": [
    {
     "data": {
      "text/plain": [
       "6.0"
      ]
     },
     "execution_count": 11,
     "metadata": {},
     "output_type": "execute_result"
    }
   ],
   "source": [
    "(day, hour, n) = (0, 6, 1)\n",
    "pd.to_timedelta(day * 24 + hour, unit='h') / pd.to_timedelta(1, unit='h')"
   ]
  },
  {
   "cell_type": "code",
   "execution_count": 12,
   "id": "0fa3e11b-f28d-4d89-bfab-ceae7299a4a3",
   "metadata": {},
   "outputs": [
    {
     "data": {
      "text/plain": [
       "360.0"
      ]
     },
     "execution_count": 12,
     "metadata": {},
     "output_type": "execute_result"
    }
   ],
   "source": [
    "(day, hour, n) = (0, 6, 1)\n",
    "pd.to_timedelta(day * 24 + hour, unit='h') / pd.to_timedelta(1, unit='m')"
   ]
  },
  {
   "cell_type": "code",
   "execution_count": null,
   "id": "b1a69250-f758-47b0-8a56-85cd7680cc90",
   "metadata": {},
   "outputs": [],
   "source": []
  }
 ],
 "metadata": {
  "kernelspec": {
   "display_name": "Python [conda env:sim311]",
   "language": "python",
   "name": "conda-env-sim311-py"
  },
  "language_info": {
   "codemirror_mode": {
    "name": "ipython",
    "version": 3
   },
   "file_extension": ".py",
   "mimetype": "text/x-python",
   "name": "python",
   "nbconvert_exporter": "python",
   "pygments_lexer": "ipython3",
   "version": "3.11.9"
  }
 },
 "nbformat": 4,
 "nbformat_minor": 5
}
